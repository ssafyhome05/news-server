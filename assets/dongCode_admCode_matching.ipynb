{
  "cells": [
    {
      "cell_type": "markdown",
      "metadata": {
        "id": "lZhBtkLn2KuY"
      },
      "source": [
        "# 시군구별 법정동, 행정구역코드 매칭\n",
        "\n",
        "같은 시, 같은 동의 법정동코드와 행정구역 코드를 매칭한 `dong_code_matching.csv` 파일을 생성하는 코드입니다.\n",
        "\n",
        "### 1. 배경\n",
        "\n",
        "프로젝트를 진행하던 중,  \n",
        "공공데이터에서 `법정동` 기준으로 제공되는 매물 거래내역 데이터와  \n",
        "통계청에서 `행정구역코드` 기준으로 제공되는 인구통계 데이터를  \n",
        "매칭 시켜야 하는 문제가 생겼습니다.\n",
        "\n",
        "따라서 통계청 및 공공데이터에서 각각 시군구별 코드자료를 받은 다음\n",
        "매칭시키는 파이썬 코드를 작성했습니다.\n",
        "\n",
        "예를들어, **서울특별시 종로구**의 경우 법정동코드는 `11110(00000)` 이지만,  행정구역코드는 `11010` 입니다.\n",
        "\n",
        "### 2. 코드\n"
      ]
    },
    {
      "cell_type": "code",
      "execution_count": 4,
      "metadata": {
        "colab": {
          "base_uri": "https://localhost:8080/",
          "height": 206
        },
        "id": "wy2MdLh116Ab",
        "outputId": "c8b57024-17b4-43cc-e55a-513fcad9ae6a"
      },
      "outputs": [
        {
          "data": {
            "text/html": [
              "<div>\n",
              "<style scoped>\n",
              "    .dataframe tbody tr th:only-of-type {\n",
              "        vertical-align: middle;\n",
              "    }\n",
              "\n",
              "    .dataframe tbody tr th {\n",
              "        vertical-align: top;\n",
              "    }\n",
              "\n",
              "    .dataframe thead th {\n",
              "        text-align: right;\n",
              "    }\n",
              "</style>\n",
              "<table border=\"1\" class=\"dataframe\">\n",
              "  <thead>\n",
              "    <tr style=\"text-align: right;\">\n",
              "      <th></th>\n",
              "      <th>법정동코드</th>\n",
              "      <th>시도명</th>\n",
              "      <th>시군구명</th>\n",
              "    </tr>\n",
              "  </thead>\n",
              "  <tbody>\n",
              "    <tr>\n",
              "      <th>0</th>\n",
              "      <td>1100000000</td>\n",
              "      <td>서울특별시</td>\n",
              "      <td>NaN</td>\n",
              "    </tr>\n",
              "    <tr>\n",
              "      <th>1</th>\n",
              "      <td>1111000000</td>\n",
              "      <td>서울특별시</td>\n",
              "      <td>종로구</td>\n",
              "    </tr>\n",
              "    <tr>\n",
              "      <th>2</th>\n",
              "      <td>1111010100</td>\n",
              "      <td>서울특별시</td>\n",
              "      <td>종로구</td>\n",
              "    </tr>\n",
              "    <tr>\n",
              "      <th>3</th>\n",
              "      <td>1111010200</td>\n",
              "      <td>서울특별시</td>\n",
              "      <td>종로구</td>\n",
              "    </tr>\n",
              "    <tr>\n",
              "      <th>4</th>\n",
              "      <td>1111010300</td>\n",
              "      <td>서울특별시</td>\n",
              "      <td>종로구</td>\n",
              "    </tr>\n",
              "  </tbody>\n",
              "</table>\n",
              "</div>"
            ],
            "text/plain": [
              "        법정동코드    시도명 시군구명\n",
              "0  1100000000  서울특별시  NaN\n",
              "1  1111000000  서울특별시  종로구\n",
              "2  1111010100  서울특별시  종로구\n",
              "3  1111010200  서울특별시  종로구\n",
              "4  1111010300  서울특별시  종로구"
            ]
          },
          "execution_count": 4,
          "metadata": {},
          "output_type": "execute_result"
        }
      ],
      "source": [
        "import pandas as pd\n",
        "\n",
        "#법정동코드\n",
        "dong_code = pd.read_csv('./국토교통부_전국 법정동_20240802.csv', encoding=\"cp949\")\n",
        "dong_code[\"법정동코드\"] = dong_code[\"법정동코드\"].astype(str)\n",
        "dong_code = dong_code[dong_code[\"삭제일자\"].isna()]\n",
        "dong_code = dong_code[[\"법정동코드\",\"시도명\",\"시군구명\"]]\n",
        "dong_code.head()"
      ]
    },
    {
      "cell_type": "code",
      "execution_count": 5,
      "metadata": {
        "colab": {
          "base_uri": "https://localhost:8080/",
          "height": 206
        },
        "id": "PlU-RjNf6RLV",
        "outputId": "da5543a8-f4a1-47c3-efb0-ecfc37f99674"
      },
      "outputs": [
        {
          "data": {
            "text/html": [
              "<div>\n",
              "<style scoped>\n",
              "    .dataframe tbody tr th:only-of-type {\n",
              "        vertical-align: middle;\n",
              "    }\n",
              "\n",
              "    .dataframe tbody tr th {\n",
              "        vertical-align: top;\n",
              "    }\n",
              "\n",
              "    .dataframe thead th {\n",
              "        text-align: right;\n",
              "    }\n",
              "</style>\n",
              "<table border=\"1\" class=\"dataframe\">\n",
              "  <thead>\n",
              "    <tr style=\"text-align: right;\">\n",
              "      <th></th>\n",
              "      <th>법정동코드</th>\n",
              "      <th>시도명</th>\n",
              "    </tr>\n",
              "  </thead>\n",
              "  <tbody>\n",
              "    <tr>\n",
              "      <th>1</th>\n",
              "      <td>11110</td>\n",
              "      <td>서울특별시_종로구</td>\n",
              "    </tr>\n",
              "    <tr>\n",
              "      <th>94</th>\n",
              "      <td>11140</td>\n",
              "      <td>서울특별시_중구</td>\n",
              "    </tr>\n",
              "    <tr>\n",
              "      <th>179</th>\n",
              "      <td>11170</td>\n",
              "      <td>서울특별시_용산구</td>\n",
              "    </tr>\n",
              "    <tr>\n",
              "      <th>229</th>\n",
              "      <td>11200</td>\n",
              "      <td>서울특별시_성동구</td>\n",
              "    </tr>\n",
              "    <tr>\n",
              "      <th>332</th>\n",
              "      <td>11215</td>\n",
              "      <td>서울특별시_광진구</td>\n",
              "    </tr>\n",
              "  </tbody>\n",
              "</table>\n",
              "</div>"
            ],
            "text/plain": [
              "     법정동코드        시도명\n",
              "1    11110  서울특별시_종로구\n",
              "94   11140   서울특별시_중구\n",
              "179  11170  서울특별시_용산구\n",
              "229  11200  서울특별시_성동구\n",
              "332  11215  서울특별시_광진구"
            ]
          },
          "execution_count": 5,
          "metadata": {},
          "output_type": "execute_result"
        }
      ],
      "source": [
        "# 1. '법정동코드' 칼럼의 앞 5자리만 잘라서 다시 넣기\n",
        "dong_code[\"법정동코드\"] = dong_code[\"법정동코드\"].str[:5]\n",
        "\n",
        "# 2. '시군구명'이 NaN인 행 제거\n",
        "dong_code = dong_code.dropna(subset=[\"시군구명\"])\n",
        "\n",
        "# 3. '법정동코드'가 동일한 행은 첫 번째 데이터만 남기기\n",
        "dong_code = dong_code.drop_duplicates(subset=[\"법정동코드\"], keep=\"first\")\n",
        "\n",
        "# 4. 시도명 시군구명 합치기\n",
        "dong_code[\"시도명\"] = dong_code[\"시도명\"]+\"_\"+dong_code[\"시군구명\"]\n",
        "dong_code = dong_code[[\"법정동코드\",\"시도명\"]]\n",
        "# 결과 출력\n",
        "# pd.set_option('display.max_rows', None) # 모든 행을 보고 싶은 경우\n",
        "dong_code.head()\n",
        "\n",
        "\n"
      ]
    },
    {
      "cell_type": "code",
      "execution_count": 14,
      "metadata": {
        "colab": {
          "base_uri": "https://localhost:8080/",
          "height": 424
        },
        "id": "Nns5S8_I2AGn",
        "outputId": "28257731-30c5-44c8-f04d-b2fa2cfaa405"
      },
      "outputs": [
        {
          "data": {
            "text/html": [
              "<div>\n",
              "<style scoped>\n",
              "    .dataframe tbody tr th:only-of-type {\n",
              "        vertical-align: middle;\n",
              "    }\n",
              "\n",
              "    .dataframe tbody tr th {\n",
              "        vertical-align: top;\n",
              "    }\n",
              "\n",
              "    .dataframe thead th {\n",
              "        text-align: right;\n",
              "    }\n",
              "</style>\n",
              "<table border=\"1\" class=\"dataframe\">\n",
              "  <thead>\n",
              "    <tr style=\"text-align: right;\">\n",
              "      <th></th>\n",
              "      <th>행정구역코드</th>\n",
              "      <th>시도명</th>\n",
              "    </tr>\n",
              "  </thead>\n",
              "  <tbody>\n",
              "    <tr>\n",
              "      <th>0</th>\n",
              "      <td>11010</td>\n",
              "      <td>서울특별시_종로구</td>\n",
              "    </tr>\n",
              "    <tr>\n",
              "      <th>17</th>\n",
              "      <td>11020</td>\n",
              "      <td>서울특별시_중구</td>\n",
              "    </tr>\n",
              "    <tr>\n",
              "      <th>32</th>\n",
              "      <td>11030</td>\n",
              "      <td>서울특별시_용산구</td>\n",
              "    </tr>\n",
              "    <tr>\n",
              "      <th>48</th>\n",
              "      <td>11040</td>\n",
              "      <td>서울특별시_성동구</td>\n",
              "    </tr>\n",
              "    <tr>\n",
              "      <th>65</th>\n",
              "      <td>11050</td>\n",
              "      <td>서울특별시_광진구</td>\n",
              "    </tr>\n",
              "  </tbody>\n",
              "</table>\n",
              "</div>"
            ],
            "text/plain": [
              "   행정구역코드        시도명\n",
              "0   11010  서울특별시_종로구\n",
              "17  11020   서울특별시_중구\n",
              "32  11030  서울특별시_용산구\n",
              "48  11040  서울특별시_성동구\n",
              "65  11050  서울특별시_광진구"
            ]
          },
          "execution_count": 14,
          "metadata": {},
          "output_type": "execute_result"
        }
      ],
      "source": [
        "def tothree(data):\n",
        "  if len(data)== 2:\n",
        "    return \"0\"+data\n",
        "  else :\n",
        "    return data\n",
        "\n",
        "def remove_space(data):\n",
        "  return \"\".join(data.split(\" \"))\n",
        "\n",
        "\n",
        "#행정구역코드\n",
        "adm_code = pd.read_csv('./adm_code.csv',encoding=\"cp949\")\n",
        "\n",
        "adm_code['행정구역코드'] = adm_code['시도코드'].astype(str) + adm_code['시군구코드'].astype(str).apply(tothree)\n",
        "\n",
        "# 1. '행정구역코드'가 동일한 행은 첫 번째 데이터만 남기기\n",
        "adm_code = adm_code.drop_duplicates(subset=[\"행정구역코드\"], keep=\"first\")\n",
        "adm_code\n",
        "\n",
        "# 2. 시군구명칭 공백 없애기\n",
        "adm_code[\"시군구명칭\"] = adm_code[\"시군구명칭\"].apply(remove_space)\n",
        "# 3. 시도명 통일하기\n",
        "adm_code[\"시도명\"] = adm_code[\"시도명칭\"]+\"_\"+adm_code[\"시군구명칭\"]\n",
        "adm_code = adm_code[[\"행정구역코드\",\"시도명\"]]\n",
        "\n",
        "adm_code.head()\n"
      ]
    },
    {
      "cell_type": "code",
      "execution_count": 16,
      "metadata": {
        "colab": {
          "base_uri": "https://localhost:8080/"
        },
        "id": "Bj8qNQ_D7Ipe",
        "outputId": "0437bfd4-975b-4de4-88da-a70531638406"
      },
      "outputs": [
        {
          "name": "stdout",
          "output_type": "stream",
          "text": [
            "행정구역코드 개수는 250 이고, 법정동 코드 개수는 264 이다.\n"
          ]
        }
      ],
      "source": [
        "print(f'행정구역코드 개수는 {len(adm_code)} 이고, 법정동 코드 개수는 {len(dong_code)} 이다.')"
      ]
    },
    {
      "cell_type": "code",
      "execution_count": 18,
      "metadata": {
        "colab": {
          "base_uri": "https://localhost:8080/",
          "height": 424
        },
        "id": "0WeIYJRdAwTl",
        "outputId": "e58384a1-c292-4c61-e54f-3dac0ce7823f"
      },
      "outputs": [
        {
          "data": {
            "text/html": [
              "<div>\n",
              "<style scoped>\n",
              "    .dataframe tbody tr th:only-of-type {\n",
              "        vertical-align: middle;\n",
              "    }\n",
              "\n",
              "    .dataframe tbody tr th {\n",
              "        vertical-align: top;\n",
              "    }\n",
              "\n",
              "    .dataframe thead th {\n",
              "        text-align: right;\n",
              "    }\n",
              "</style>\n",
              "<table border=\"1\" class=\"dataframe\">\n",
              "  <thead>\n",
              "    <tr style=\"text-align: right;\">\n",
              "      <th></th>\n",
              "      <th>adm_cd</th>\n",
              "      <th>dong_code</th>\n",
              "      <th>city_name</th>\n",
              "    </tr>\n",
              "  </thead>\n",
              "  <tbody>\n",
              "    <tr>\n",
              "      <th>0</th>\n",
              "      <td>11010</td>\n",
              "      <td>11110</td>\n",
              "      <td>서울특별시_종로구</td>\n",
              "    </tr>\n",
              "    <tr>\n",
              "      <th>1</th>\n",
              "      <td>11020</td>\n",
              "      <td>11140</td>\n",
              "      <td>서울특별시_중구</td>\n",
              "    </tr>\n",
              "    <tr>\n",
              "      <th>2</th>\n",
              "      <td>11030</td>\n",
              "      <td>11170</td>\n",
              "      <td>서울특별시_용산구</td>\n",
              "    </tr>\n",
              "    <tr>\n",
              "      <th>3</th>\n",
              "      <td>11040</td>\n",
              "      <td>11200</td>\n",
              "      <td>서울특별시_성동구</td>\n",
              "    </tr>\n",
              "    <tr>\n",
              "      <th>4</th>\n",
              "      <td>11050</td>\n",
              "      <td>11215</td>\n",
              "      <td>서울특별시_광진구</td>\n",
              "    </tr>\n",
              "  </tbody>\n",
              "</table>\n",
              "</div>"
            ],
            "text/plain": [
              "  adm_cd dong_code  city_name\n",
              "0  11010     11110  서울특별시_종로구\n",
              "1  11020     11140   서울특별시_중구\n",
              "2  11030     11170  서울특별시_용산구\n",
              "3  11040     11200  서울특별시_성동구\n",
              "4  11050     11215  서울특별시_광진구"
            ]
          },
          "execution_count": 18,
          "metadata": {},
          "output_type": "execute_result"
        }
      ],
      "source": [
        "# 데이터프레임 조인 (right join)\n",
        "merged_df = pd.merge(dong_code, adm_code, on=\"시도명\", how=\"right\")\n",
        "merged_df[\"adm_cd\"] = merged_df[\"행정구역코드\"]\n",
        "merged_df[\"city_name\"] =merged_df[\"시도명\"]\n",
        "merged_df[\"dong_code\"] =merged_df[\"법정동코드\"]\n",
        "\n",
        "merged_df = merged_df[[\"adm_cd\",\"dong_code\",\"city_name\"]]\n",
        "merged_df.head()\n",
        "\n"
      ]
    },
    {
      "cell_type": "code",
      "execution_count": null,
      "metadata": {
        "id": "a2jCqNfSEDU-"
      },
      "outputs": [],
      "source": []
    },
    {
      "cell_type": "code",
      "execution_count": 19,
      "metadata": {
        "id": "740kflCICD0s"
      },
      "outputs": [],
      "source": [
        "merged_df.to_csv(\"dong_code_matching.csv\",encoding=\"utf-8-sig\")"
      ]
    }
  ],
  "metadata": {
    "colab": {
      "provenance": []
    },
    "kernelspec": {
      "display_name": "zipchack",
      "language": "python",
      "name": "python3"
    },
    "language_info": {
      "codemirror_mode": {
        "name": "ipython",
        "version": 3
      },
      "file_extension": ".py",
      "mimetype": "text/x-python",
      "name": "python",
      "nbconvert_exporter": "python",
      "pygments_lexer": "ipython3",
      "version": "3.9.20"
    }
  },
  "nbformat": 4,
  "nbformat_minor": 0
}
