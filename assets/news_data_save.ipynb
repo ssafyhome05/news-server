{
 "cells": [
  {
   "cell_type": "markdown",
   "metadata": {},
   "source": [
    "# 뉴스기사 제목 및 링크 크롤링\n",
    "\n",
    "네이버 부동산 상위 4개 뉴스데이터를 크롤링해 가져오는 코드입니다.\n",
    "\n",
    "\n",
    "### 1. 배경\n",
    "\n",
    "부동산 거래 내역과 함께, 현재 이슈가 되는 부동산 뉴스를 보면 거래 내역 파악 및 추이 파악에 도움이 될 것이라 생각했습니다. \n",
    "\n",
    "따라서 파이썬 FAST API 프레임워크를 통해 네이버부동산 최신 뉴스를 크롤링하여 가져옵니다.\n",
    "\n",
    "\n",
    "### 2. 코드\n"
   ]
  },
  {
   "cell_type": "code",
   "execution_count": 14,
   "metadata": {},
   "outputs": [
    {
     "name": "stdout",
     "output_type": "stream",
     "text": [
      "{'dong_code': '1165000000', 'title': \"성동구, 연탄 제로' 지원사업 시행\", 'url': 'https://n.news.naver.com/article/011/0004417933', 'city_name': '서초구', 'ref': '서울경제', 'img': 'https://imgnews.pstatic.net/image/011/2024/11/21/0004417933_001_20241121134511458.jpg?type=w860'}\n",
      "{'dong_code': '1111000000', 'title': '종로구, 내년 9월부터 버스비 지원', 'url': 'https://n.news.naver.com/article/011/0004417922', 'city_name': '종로구', 'ref': '서울경제', 'img': 'https://imgnews.pstatic.net/image/011/2024/11/21/0004417922_001_20241121134509081.jpg?type=w860'}\n",
      "{'dong_code': '4143000000', 'title': '경기 월암지구 사전청약 당첨자 절반이 본청약 포기…분양가 상승 여파', 'url': 'https://n.news.naver.com/article/028/0002717138', 'city_name': '의왕시', 'ref': '한겨레', 'img': 'https://imgnews.pstatic.net/image/028/2024/11/20/0002717138_001_20241121020254996.jpg?type=w860'}\n",
      "{'dong_code': '1126000000', 'title': '서울시, 상봉역 인근에 장기전세주택 223가구 공급한다', 'url': 'https://n.news.naver.com/article/015/0005059352', 'city_name': '중랑구', 'ref': '한국경제', 'img': 'https://imgnews.pstatic.net/image/015/2024/11/20/0005059352_001_20241120144309685.jpg?type=w860'}\n",
      "{'dong_code': '1168000000', 'title': '강남 아파트값 3.3㎡당 9395만원', 'url': 'https://n.news.naver.com/article/016/0002390753', 'city_name': '강남구', 'ref': '헤럴드경제', 'img': 'https://imgnews.pstatic.net/image/016/2024/11/20/0002390753_001_20241120114720926.jpg?type=w860'}\n",
      "{'dong_code': '1126000000', 'title': '서울시 ‘중화3구역’ 에 정비 코디네이터 파견', 'url': 'https://n.news.naver.com/article/016/0002390746', 'city_name': '중랑구', 'ref': '헤럴드경제', 'img': ''}\n",
      "{'dong_code': '5218000000', 'title': '정읍시, 신태인 등 4개 도시공업지역 기본계획 공청회…이달 29일', 'url': 'https://n.news.naver.com/article/421/0007916704', 'city_name': '정읍시', 'ref': '뉴스1', 'img': 'https://imgnews.pstatic.net/image/421/2024/11/19/0007916704_001_20241119152817136.jpg?type=w860'}\n",
      "{'dong_code': '1141000000', 'title': '홍제3구역 ‘서울형 키즈카페’ 추진', 'url': 'https://n.news.naver.com/article/016/0002390216', 'city_name': '서대문구', 'ref': '헤럴드경제', 'img': 'https://imgnews.pstatic.net/image/016/2024/11/19/0002390216_001_20241119120519200.jpg?type=w860'}\n",
      "{'dong_code': '1117000000', 'title': '핫플 용리단길도 … 임대료 상승 몸살', 'url': 'https://n.news.naver.com/article/009/0005398589', 'city_name': '용산구', 'ref': '매일경제', 'img': 'https://imgnews.pstatic.net/image/009/2024/11/18/0005398589_001_20241118170815139.jpg?type=w860'}\n",
      "{'dong_code': '4159000000', 'title': 'LH, 동탄2 ‘종합병원 건립 패키지형 개발사업’ 사업자공모 추진', 'url': 'https://n.news.naver.com/article/119/0002894004', 'city_name': '화성시', 'ref': '데일리안', 'img': 'https://imgnews.pstatic.net/image/119/2024/11/18/0002894004_001_20241118163212910.png?type=w860'}\n"
     ]
    }
   ],
   "source": [
    "import requests\n",
    "from bs4 import BeautifulSoup\n",
    "\n",
    "search = \"https://land.naver.com/news/region.naver?city_no=1100000000&dvsn_no=\"\n",
    "\n",
    "response = requests.get(search)\n",
    "soup = BeautifulSoup(response.text, \"html.parser\")\n",
    "dong_codes = soup.select(\".area\") # 결과는 리스트\n",
    "\n",
    "# for code in dong_codes:\n",
    "#     title = code.text\n",
    "#     dong_code = code.attrs['href'].split(\"dvsn_no\")[1][1:]\n",
    "#     print(title, dong_code)\n",
    "\n",
    "links = soup.select(\".category_list li a:nth-of-type(2)\") \n",
    "\n",
    "# for link in links:\n",
    "#     title = link.text.strip()\n",
    "#     url = link.attrs['href']\n",
    "#     print(title, url)\n",
    "response = {\"news\":[]}\n",
    "for link, code in zip(links, dong_codes):\n",
    "    city_name = code.text[1:-1]\n",
    "    dong_code = code.attrs['href'].split(\"dvsn_no\")[1][1:]\n",
    "    url = link.attrs['href']\n",
    "\n",
    "    title_soup = BeautifulSoup(requests.get(url).text, \"html.parser\")\n",
    "    title = title_soup.select('#title_area span')[0].text\n",
    "    ref = title_soup.select('.ofhd_float_title_text_press')[0].text\n",
    "    if title_soup.select('#img1')!=[]:\n",
    "        img = title_soup.select('#img1')[0].attrs['data-src']\n",
    "    else :\n",
    "        img = \"\"\n",
    "    data = {\"dong_code\":dong_code, \"title\":title,\"url\":url,\"city_name\":city_name, \"ref\":ref, \"img\":img}\n",
    "    response[\"news\"].append(data)\n",
    "    print(data)\n",
    "\n",
    "\n"
   ]
  },
  {
   "cell_type": "code",
   "execution_count": 20,
   "metadata": {},
   "outputs": [
    {
     "data": {
      "text/plain": [
       "{'dong_code': '4159000000',\n",
       " 'title': 'LH, 동탄2 ‘종합병원 건립 패키지형 개발사업’ 사업자공모 추진',\n",
       " 'url': 'https://n.news.naver.com/article/119/0002894004',\n",
       " 'city_name': '화성시',\n",
       " 'ref': '데일리안',\n",
       " 'img': 'https://imgnews.pstatic.net/image/119/2024/11/18/0002894004_001_20241118163212910.png?type=w860'}"
      ]
     },
     "execution_count": 20,
     "metadata": {},
     "output_type": "execute_result"
    }
   ],
   "source": [
    "data"
   ]
  },
  {
   "cell_type": "markdown",
   "metadata": {},
   "source": [
    "## 2. Database 저장"
   ]
  },
  {
   "cell_type": "markdown",
   "metadata": {},
   "source": [
    "local의 mysql db와 연결하여 크롤링한 기사를 입력하는 데이터합니다."
   ]
  },
  {
   "cell_type": "markdown",
   "metadata": {},
   "source": [
    "# 2. 뉴스기사 내용 요약 (미완)"
   ]
  },
  {
   "cell_type": "code",
   "execution_count": 44,
   "metadata": {},
   "outputs": [
    {
     "name": "stdout",
     "output_type": "stream",
     "text": [
      "상권 개척했던 맛집 '효뜨'건물주와 갈등 끝 명도소송일대 임대료 3~4년 사이2배 껑충 뛰자 분쟁 잦아져유동인구 최근 줄어들며경리단길 전철 밟나 우려서울 용산구 한강대로에 위치한 베트남 음식점 효뜨. 효뜨서울의 맛집 '핫플레이스'로 유명한 용리단길이 최근 임대료 급등으로 곳곳에서 갈등이 불거지고 있는 것으로 나타났다. 용리단길 개척 주자 중 하나인 베트남 음식점 '효뜨'는 임대료 이견 끝에 건물주와 명도소송 중이다. 이런 현상이 계속 이어지면 용리단길 역시 앞서 젠트리피케이션으로 쇠락한 이태원 경리단길이나 신사동 가로수길과 같은 길을 걸을 것이란 전망도 나온다.18일 서울서부지방법원에 따르면 '효뜨'는 2019년 5월 용리단길에 입점해 월세 450만원(부가세 별도), 관리비 0원, 임차보증금 5000만원으로 임대차 계약을 했다. 임대 면적은 53.8㎡(약 16.3평)지만 지하주차장 30.81㎡와 당시 불법으로 증축됐던 위반 건축물 면적 30㎡를 점유해 사용할 수 있었다.효뜨는 신용산 상권을 만들었다고 평가받는 남준영 셰프의 첫 식당이다. GS25와 '효뜨 소고기 쌀국수' '효뜨 돼지고기 덮밥' 등 컬래버레이션 제품을 출시할 정도로 선풍적 인기를 끌었으며 강남점, 스타필드수원점 등 분점도 냈다.'효뜨'는 2년 뒤인 2021년 5월 월세 470만원, 관리비 50만원으로 임대료를 상향해 재계약을 했다. 그러나 이후 코로나19 시국인 2021년 7월부터 10월까지 월세를 연체하며 계약갱신청구권을 상실하게 됐다. 현행법에서는 3개월분 이상 월세가 연체되면 임대인은 임차인의 계약 갱신 요구를 거부할 권리를 갖게 된다.엎친 데 덮친 격으로 그 이듬해 불법 증축 건축물이 용산구청에 적발되며 원상복구 명령도 떨어졌다. 원상복구 후 재입점 조건을 협의하는 과정에서 갈등이 더 커진 것이다. 효뜨는 지난해 3월 주변 시세대로 권리금 3억원을 받고 계약을 종료하거나 1억400만원의 보상금을 받고 리뉴얼 후 재입점하는 2가지 안을 제시했다. 그러나 임대차 계약 기간이 종료된 지난해 6월 이후에도 양측 간 이견은 계속됐다.건물주는 5년 영업을 조건으로 지난해 10월 월세를 470만원에서 1200만원으로 올릴 것을 제안했다. 현재 효뜨의 이용 면적을 기준으로 하면 평당 18만원 하던 월세가 약 47만원으로 오르는 것이다. 효뜨는 적자가 날 수밖에 없다며 받아들이지 못했고 건물주는 명도소송을 시작했다. 올해 8월 열린 1심 재판에서 건물주가 승소했고 2심 재판을 앞두고 있다.효뜨 사장인 남준영 셰프는 \"용리단길 동네에 어느 정도 기여를 해왔다고 보는데 안타깝다\"고 말했다. 반면 건물주는 \"재계약 기간이 만료됐는데도 (효뜨는) 월세를 470만원 주면서 영업하고 있다\"며 \"지금 누가 피해자인가. 임차인이 항소까지 하면서 시간 끌기 영업을 하는 것이 지금의 현실\"이라고 말했다.용리단길은 최근 2년 동안 전국에서 가장 임대료가 급격하게 올랐던 상권 중 하나로 꼽힌다. 국토교통부에 따르면 용산역 상권은 2024년 2분기 기준으로 소규모 상가의 임대가격지수(113.36)가 전국 2위 수준이었다. 용리단길에서 일하는 공인중개사 A씨는 \"4년 전만 해도 평당 15만원 하던 월세가 요즘 30만원은 하는 것 같다\"고 말했다.용리단길 곳곳에서 임대료를 둘러싼 갈등이 번지다 보니 용리단길이 쇠락의 길을 걷는 것 아니냐는 우려도 나온다. 용리단길 인근 공인중개사 B씨는 \"임대료가 장난 아니게 오르면서 상권도 옛날 같지 않다\"며 \"주인분들이 평당 30만원 이야기하는 것을 겨우 20만원대로 낮추고 있다. 결국 (임차인이) 몇 군데는 나왔고 바뀐 곳도 있다\"고 말했다. 최근에는 용리단길의 유동인구가 줄었다는 결과도 나왔다. 서울시 상권분석 서비스에 따르면 '용리단길'이 위치한 한강로 일대의 유동인구(골목 기준)는 2분기 기준으로 2022년(7만9493명)에 비해 2023년(15만5049명) 급격히 증가했으나 2024년(13만7159명) 오히려 하락세를 보였다.[위지혜 기자]\n"
     ]
    }
   ],
   "source": [
    "search = \"https://n.news.naver.com/article/009/0005398589\"\n",
    "response = requests.get(search)\n",
    "soup = BeautifulSoup(response.text, \"html.parser\")\n",
    "text = soup.select_one(\"#dic_area\").get_text(strip=True)\n",
    "\n",
    "print(text)"
   ]
  },
  {
   "cell_type": "code",
   "execution_count": null,
   "metadata": {},
   "outputs": [],
   "source": [
    "from transformers import AutoTokenizer\n",
    "\n",
    "checkpoint = \"google-t5/t5-small\"\n",
    "tokenizer = AutoTokenizer.from_pretrained(checkpoint)\n",
    "\n",
    "from transformers import TFAutoModelForSeq2SeqLM\n",
    "\n",
    "model = TFAutoModelForSeq2SeqLM.from_pretrained(checkpoint)"
   ]
  },
  {
   "cell_type": "markdown",
   "metadata": {},
   "source": [
    "### 3. GPT 프롬프트 사용 (미완)"
   ]
  },
  {
   "cell_type": "code",
   "execution_count": 2,
   "metadata": {},
   "outputs": [
    {
     "name": "stdout",
     "output_type": "stream",
     "text": [
      "{\"catchphrase\": \"당신의 꿈을 찾는 부동산, 거래의 매력을 전하다!\"}\n"
     ]
    }
   ],
   "source": [
    "from openai import OpenAI\n",
    "#key = ''\n",
    "#client = OpenAI(api_key=key)\n",
    "\n",
    "response = client.chat.completions.create(\n",
    "    model=\"gpt-4o-mini\",\n",
    "    response_format={ \"type\": \"json_object\" },\n",
    "    messages=[\n",
    "    {\"role\": \"system\", \"content\": \"You are a helpful assistant designed to output JSON.\"},\n",
    "    {\"role\": \"user\", \"content\": \"당신은 뛰어난 개발자입니다.\"},\n",
    "    {\"role\": \"user\", \"content\": \"매력적인 부동산 매물 거래내역 제공 서비스 캐치프레이즈를 만들어주세요\"},\n",
    "    ]\n",
    ")\n",
    "\n",
    "result = response.choices[0].message.content\n",
    "print(result)\n",
    "\n",
    "## https://hyunicecream.tistory.com/78 이거 참고해서 gpt 키 더 써보기"
   ]
  },
  {
   "cell_type": "code",
   "execution_count": 1,
   "metadata": {},
   "outputs": [
    {
     "name": "stdout",
     "output_type": "stream",
     "text": [
      "Package            Version\n",
      "------------------ -----------\n",
      "accelerate         1.1.1\n",
      "annotated-types    0.7.0\n",
      "anyio              4.6.2.post1\n",
      "asttokens          2.4.1\n",
      "asyncmy            0.2.9\n",
      "beautifulsoup4     4.12.3\n",
      "Brotli             1.0.9\n",
      "certifi            2024.8.30\n",
      "cffi               1.17.1\n",
      "charset-normalizer 3.3.2\n",
      "click              8.1.7\n",
      "colorama           0.4.6\n",
      "comm               0.2.2\n",
      "cryptography       43.0.3\n",
      "databases          0.9.0\n",
      "debugpy            1.8.8\n",
      "decorator          5.1.1\n",
      "distro             1.9.0\n",
      "exceptiongroup     1.2.2\n",
      "executing          2.1.0\n",
      "fastapi            0.115.5\n",
      "filelock           3.13.1\n",
      "fsspec             2024.10.0\n",
      "gmpy2              2.1.2\n",
      "greenlet           3.1.1\n",
      "h11                0.14.0\n",
      "httpcore           1.0.7\n",
      "httpx              0.27.2\n",
      "huggingface-hub    0.26.2\n",
      "idna               3.7\n",
      "importlib_metadata 8.5.0\n",
      "ipykernel          6.29.5\n",
      "ipython            8.18.1\n",
      "jedi               0.19.2\n",
      "Jinja2             3.1.4\n",
      "jiter              0.7.1\n",
      "jupyter_client     8.6.3\n",
      "jupyter_core       5.7.2\n",
      "MarkupSafe         2.1.3\n",
      "matplotlib-inline  0.1.7\n",
      "mkl_fft            1.3.11\n",
      "mkl_random         1.2.8\n",
      "mkl-service        2.4.0\n",
      "mpmath             1.3.0\n",
      "nest_asyncio       1.6.0\n",
      "networkx           3.2.1\n",
      "numpy              2.0.1\n",
      "openai             1.54.4\n",
      "packaging          24.2\n",
      "pandas             2.2.3\n",
      "parso              0.8.4\n",
      "pickleshare        0.7.5\n",
      "pillow             11.0.0\n",
      "pip                24.2\n",
      "platformdirs       4.3.6\n",
      "prompt_toolkit     3.0.48\n",
      "protobuf           5.28.3\n",
      "psutil             6.1.0\n",
      "pure_eval          0.2.3\n",
      "pycparser          2.21\n",
      "pydantic           2.9.2\n",
      "pydantic_core      2.23.4\n",
      "Pygments           2.18.0\n",
      "PyMySQL            1.0.2\n",
      "PySocks            1.7.1\n",
      "python-dateutil    2.9.0.post0\n",
      "pytz               2024.2\n",
      "pywin32            307\n",
      "PyYAML             6.0.2\n",
      "pyzmq              26.2.0\n",
      "regex              2024.11.6\n",
      "requests           2.32.3\n",
      "safetensors        0.4.5\n",
      "sentencepiece      0.2.0\n",
      "setuptools         75.1.0\n",
      "six                1.16.0\n",
      "sniffio            1.3.1\n",
      "soupsieve          2.5\n",
      "SQLAlchemy         2.0.36\n",
      "stack-data         0.6.2\n",
      "starlette          0.41.3\n",
      "sympy              1.13.1\n",
      "tokenizers         0.20.3\n",
      "torch              2.5.1\n",
      "torchaudio         2.5.1\n",
      "torchvision        0.20.1\n",
      "tornado            6.4.1\n",
      "tqdm               4.67.0\n",
      "traitlets          5.14.3\n",
      "transformers       4.46.3\n",
      "typing_extensions  4.12.2\n",
      "tzdata             2024.2\n",
      "urllib3            2.2.3\n",
      "uvicorn            0.32.0\n",
      "wcwidth            0.2.13\n",
      "wheel              0.44.0\n",
      "win-inet-pton      1.1.0\n",
      "zipp               3.21.0\n",
      "\n"
     ]
    }
   ],
   "source": [
    "import subprocess\n",
    "\n",
    "def list_installed_packages():\n",
    "    result = subprocess.run([\"pip\", \"list\"], capture_output=True, text=True)\n",
    "    print(result.stdout)\n",
    "\n",
    "if __name__ == \"__main__\":\n",
    "    list_installed_packages()"
   ]
  }
 ],
 "metadata": {
  "kernelspec": {
   "display_name": "zipchack",
   "language": "python",
   "name": "python3"
  },
  "language_info": {
   "codemirror_mode": {
    "name": "ipython",
    "version": 3
   },
   "file_extension": ".py",
   "mimetype": "text/x-python",
   "name": "python",
   "nbconvert_exporter": "python",
   "pygments_lexer": "ipython3",
   "version": "3.9.20"
  }
 },
 "nbformat": 4,
 "nbformat_minor": 2
}
