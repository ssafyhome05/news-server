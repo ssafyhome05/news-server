{
 "cells": [
  {
   "cell_type": "markdown",
   "metadata": {},
   "source": [
    "# 뉴스기사 제목 및 링크 크롤링\n",
    "\n",
    "네이버 부동산 상위 4개 뉴스데이터를 크롤링해 가져오는 코드입니다.\n",
    "\n",
    "\n",
    "### 1. 배경\n",
    "\n",
    "부동산 거래 내역과 함께, 현재 이슈가 되는 부동산 뉴스를 보면 거래 내역 파악 및 추이 파악에 도움이 될 것이라 생각했습니다. \n",
    "\n",
    "따라서 파이썬 FAST API 프레임워크를 통해 네이버부동산 최신 뉴스를 크롤링하여 가져옵니다.\n",
    "\n",
    "\n",
    "### 2. 코드\n"
   ]
  },
  {
   "cell_type": "code",
   "execution_count": 7,
   "metadata": {},
   "outputs": [
    {
     "name": "stdout",
     "output_type": "stream",
     "text": [
      "{'dong_code': '1117000000', 'title': '핫플 용리단길도 … 임대료 상승 몸살', 'url': 'https://n.news.naver.com/article/009/0005398589', 'city_name': '용산구', 'ref': '매일경제', 'img': 'https://imgnews.pstatic.net/image/009/2024/11/18/0005398589_001_20241118170815139.jpg?type=w860'}\n",
      "{'dong_code': '4159000000', 'title': 'LH, 동탄2 ‘종합병원 건립 패키지형 개발사업’ 사업자공모 추진', 'url': 'https://n.news.naver.com/article/119/0002894004', 'city_name': '화성시', 'ref': '데일리안', 'img': 'https://imgnews.pstatic.net/image/119/2024/11/18/0002894004_001_20241118163212910.png?type=w860'}\n",
      "{'dong_code': '1165000000', 'title': '서초구 \"미청산 재건축조합 이렇게 관리하세요\"', 'url': 'https://n.news.naver.com/article/014/0005269235', 'city_name': '서초구', 'ref': '파이낸셜뉴스', 'img': 'https://imgnews.pstatic.net/image/014/2024/11/18/0005269235_001_20241118110420886.jpg?type=w860'}\n",
      "{'dong_code': '1123000000', 'title': '동대문·중랑구 공공재개발…프리미엄 대단지 들어선다', 'url': 'https://n.news.naver.com/article/015/0005058120', 'city_name': '동대문구', 'ref': '한국경제', 'img': 'https://imgnews.pstatic.net/image/015/2024/11/17/0005058120_001_20241118004113994.jpg?type=w860'}\n",
      "{'dong_code': '3171000000', 'title': 'KTX-이음 울주군 남창역 정차 기원 음악회 열려', 'url': 'https://n.news.naver.com/article/001/0015051050', 'city_name': '울주군', 'ref': '연합뉴스', 'img': 'https://imgnews.pstatic.net/image/001/2024/11/17/PYH2024022313810005700_P4_20241117111021757.jpg?type=w860'}\n",
      "{'dong_code': '1153000000', 'title': '구로·강서·강북구 등 총 5곳 모아타운 대상지 선정', 'url': 'https://n.news.naver.com/article/009/0005397315', 'city_name': '구로구', 'ref': '매일경제', 'img': 'https://imgnews.pstatic.net/image/009/2024/11/15/0005397315_001_20241115161209993.png?type=w860'}\n",
      "{'dong_code': '1159000000', 'title': '동작구, 찾아가는 결핵 이동검진 실시', 'url': 'https://n.news.naver.com/article/011/0004415598', 'city_name': '동작구', 'ref': '서울경제', 'img': 'https://imgnews.pstatic.net/image/011/2024/11/15/0004415598_001_20241115113814422.jpg?type=w860'}\n",
      "{'dong_code': '1114000000', 'title': '서울 중구, 대형마트 의무휴업 평일 변경…서초·동대문 이어 세 번째', 'url': 'https://n.news.naver.com/article/011/0004415473', 'city_name': '중구', 'ref': '서울경제', 'img': 'https://imgnews.pstatic.net/image/011/2024/11/15/0004415473_001_20241115221151095.png?type=w860'}\n",
      "{'dong_code': '1121500000', 'title': \"광진구 '재창조 플랜' 선포…4대 권역별 균형발전 모색\", 'url': 'https://n.news.naver.com/article/001/0015046614', 'city_name': '광진구', 'ref': '연합뉴스', 'img': 'https://imgnews.pstatic.net/image/001/2024/11/14/AKR20241114135500004_01_i_P4_20241114163723537.jpg?type=w860'}\n",
      "{'dong_code': '1165000000', 'title': '서초구, 지하주차장 축광 피난유도선 설치', 'url': 'https://n.news.naver.com/article/011/0004415204', 'city_name': '서초구', 'ref': '서울경제', 'img': 'https://imgnews.pstatic.net/image/011/2024/11/14/0004415204_001_20241114221320769.jpeg?type=w860'}\n"
     ]
    }
   ],
   "source": [
    "import requests\n",
    "from bs4 import BeautifulSoup\n",
    "\n",
    "search = \"https://land.naver.com/news/region.naver?city_no=1100000000&dvsn_no=\"\n",
    "\n",
    "response = requests.get(search)\n",
    "soup = BeautifulSoup(response.text, \"html.parser\")\n",
    "dong_codes = soup.select(\".area\") # 결과는 리스트\n",
    "\n",
    "# for code in dong_codes:\n",
    "#     title = code.text\n",
    "#     dong_code = code.attrs['href'].split(\"dvsn_no\")[1][1:]\n",
    "#     print(title, dong_code)\n",
    "\n",
    "links = soup.select(\".category_list li a:nth-of-type(2)\") \n",
    "\n",
    "# for link in links:\n",
    "#     title = link.text.strip()\n",
    "#     url = link.attrs['href']\n",
    "#     print(title, url)\n",
    "response = {\"news\":[]}\n",
    "for link, code in zip(links, dong_codes):\n",
    "    city_name = code.text[1:-1]\n",
    "    dong_code = code.attrs['href'].split(\"dvsn_no\")[1][1:]\n",
    "    url = link.attrs['href']\n",
    "\n",
    "    title_soup = BeautifulSoup(requests.get(url).text, \"html.parser\")\n",
    "    title = title_soup.select('#title_area span')[0].text\n",
    "    ref = title_soup.select('.ofhd_float_title_text_press')[0].text\n",
    "    img = title_soup.select('#img1')[0].attrs['data-src']\n",
    "    data = {\"dong_code\":dong_code, \"title\":title,\"url\":url,\"city_name\":city_name, \"ref\":ref, \"img\":img}\n",
    "    response[\"news\"].append(data)\n",
    "    print(data)\n",
    "\n",
    "\n"
   ]
  },
  {
   "cell_type": "markdown",
   "metadata": {},
   "source": [
    "# 2. 뉴스기사 내용 요약 (미완)"
   ]
  },
  {
   "cell_type": "code",
   "execution_count": 44,
   "metadata": {},
   "outputs": [
    {
     "name": "stdout",
     "output_type": "stream",
     "text": [
      "상권 개척했던 맛집 '효뜨'건물주와 갈등 끝 명도소송일대 임대료 3~4년 사이2배 껑충 뛰자 분쟁 잦아져유동인구 최근 줄어들며경리단길 전철 밟나 우려서울 용산구 한강대로에 위치한 베트남 음식점 효뜨. 효뜨서울의 맛집 '핫플레이스'로 유명한 용리단길이 최근 임대료 급등으로 곳곳에서 갈등이 불거지고 있는 것으로 나타났다. 용리단길 개척 주자 중 하나인 베트남 음식점 '효뜨'는 임대료 이견 끝에 건물주와 명도소송 중이다. 이런 현상이 계속 이어지면 용리단길 역시 앞서 젠트리피케이션으로 쇠락한 이태원 경리단길이나 신사동 가로수길과 같은 길을 걸을 것이란 전망도 나온다.18일 서울서부지방법원에 따르면 '효뜨'는 2019년 5월 용리단길에 입점해 월세 450만원(부가세 별도), 관리비 0원, 임차보증금 5000만원으로 임대차 계약을 했다. 임대 면적은 53.8㎡(약 16.3평)지만 지하주차장 30.81㎡와 당시 불법으로 증축됐던 위반 건축물 면적 30㎡를 점유해 사용할 수 있었다.효뜨는 신용산 상권을 만들었다고 평가받는 남준영 셰프의 첫 식당이다. GS25와 '효뜨 소고기 쌀국수' '효뜨 돼지고기 덮밥' 등 컬래버레이션 제품을 출시할 정도로 선풍적 인기를 끌었으며 강남점, 스타필드수원점 등 분점도 냈다.'효뜨'는 2년 뒤인 2021년 5월 월세 470만원, 관리비 50만원으로 임대료를 상향해 재계약을 했다. 그러나 이후 코로나19 시국인 2021년 7월부터 10월까지 월세를 연체하며 계약갱신청구권을 상실하게 됐다. 현행법에서는 3개월분 이상 월세가 연체되면 임대인은 임차인의 계약 갱신 요구를 거부할 권리를 갖게 된다.엎친 데 덮친 격으로 그 이듬해 불법 증축 건축물이 용산구청에 적발되며 원상복구 명령도 떨어졌다. 원상복구 후 재입점 조건을 협의하는 과정에서 갈등이 더 커진 것이다. 효뜨는 지난해 3월 주변 시세대로 권리금 3억원을 받고 계약을 종료하거나 1억400만원의 보상금을 받고 리뉴얼 후 재입점하는 2가지 안을 제시했다. 그러나 임대차 계약 기간이 종료된 지난해 6월 이후에도 양측 간 이견은 계속됐다.건물주는 5년 영업을 조건으로 지난해 10월 월세를 470만원에서 1200만원으로 올릴 것을 제안했다. 현재 효뜨의 이용 면적을 기준으로 하면 평당 18만원 하던 월세가 약 47만원으로 오르는 것이다. 효뜨는 적자가 날 수밖에 없다며 받아들이지 못했고 건물주는 명도소송을 시작했다. 올해 8월 열린 1심 재판에서 건물주가 승소했고 2심 재판을 앞두고 있다.효뜨 사장인 남준영 셰프는 \"용리단길 동네에 어느 정도 기여를 해왔다고 보는데 안타깝다\"고 말했다. 반면 건물주는 \"재계약 기간이 만료됐는데도 (효뜨는) 월세를 470만원 주면서 영업하고 있다\"며 \"지금 누가 피해자인가. 임차인이 항소까지 하면서 시간 끌기 영업을 하는 것이 지금의 현실\"이라고 말했다.용리단길은 최근 2년 동안 전국에서 가장 임대료가 급격하게 올랐던 상권 중 하나로 꼽힌다. 국토교통부에 따르면 용산역 상권은 2024년 2분기 기준으로 소규모 상가의 임대가격지수(113.36)가 전국 2위 수준이었다. 용리단길에서 일하는 공인중개사 A씨는 \"4년 전만 해도 평당 15만원 하던 월세가 요즘 30만원은 하는 것 같다\"고 말했다.용리단길 곳곳에서 임대료를 둘러싼 갈등이 번지다 보니 용리단길이 쇠락의 길을 걷는 것 아니냐는 우려도 나온다. 용리단길 인근 공인중개사 B씨는 \"임대료가 장난 아니게 오르면서 상권도 옛날 같지 않다\"며 \"주인분들이 평당 30만원 이야기하는 것을 겨우 20만원대로 낮추고 있다. 결국 (임차인이) 몇 군데는 나왔고 바뀐 곳도 있다\"고 말했다. 최근에는 용리단길의 유동인구가 줄었다는 결과도 나왔다. 서울시 상권분석 서비스에 따르면 '용리단길'이 위치한 한강로 일대의 유동인구(골목 기준)는 2분기 기준으로 2022년(7만9493명)에 비해 2023년(15만5049명) 급격히 증가했으나 2024년(13만7159명) 오히려 하락세를 보였다.[위지혜 기자]\n"
     ]
    }
   ],
   "source": [
    "search = \"https://n.news.naver.com/article/009/0005398589\"\n",
    "response = requests.get(search)\n",
    "soup = BeautifulSoup(response.text, \"html.parser\")\n",
    "text = soup.select_one(\"#dic_area\").get_text(strip=True)\n",
    "\n",
    "print(text)"
   ]
  },
  {
   "cell_type": "code",
   "execution_count": null,
   "metadata": {},
   "outputs": [],
   "source": [
    "from transformers import AutoTokenizer\n",
    "\n",
    "checkpoint = \"google-t5/t5-small\"\n",
    "tokenizer = AutoTokenizer.from_pretrained(checkpoint)\n",
    "\n",
    "from transformers import TFAutoModelForSeq2SeqLM\n",
    "\n",
    "model = TFAutoModelForSeq2SeqLM.from_pretrained(checkpoint)"
   ]
  },
  {
   "cell_type": "markdown",
   "metadata": {},
   "source": [
    "### 3. GPT 프롬프트 사용 (미완)"
   ]
  },
  {
   "cell_type": "code",
   "execution_count": 2,
   "metadata": {},
   "outputs": [
    {
     "name": "stdout",
     "output_type": "stream",
     "text": [
      "{\"catchphrase\": \"당신의 꿈을 찾는 부동산, 거래의 매력을 전하다!\"}\n"
     ]
    }
   ],
   "source": [
    "from openai import OpenAI\n",
    "#key = ''\n",
    "#client = OpenAI(api_key=key)\n",
    "\n",
    "response = client.chat.completions.create(\n",
    "    model=\"gpt-4o-mini\",\n",
    "    response_format={ \"type\": \"json_object\" },\n",
    "    messages=[\n",
    "    {\"role\": \"system\", \"content\": \"You are a helpful assistant designed to output JSON.\"},\n",
    "    {\"role\": \"user\", \"content\": \"당신은 뛰어난 개발자입니다.\"},\n",
    "    {\"role\": \"user\", \"content\": \"매력적인 부동산 매물 거래내역 제공 서비스 캐치프레이즈를 만들어주세요\"},\n",
    "    ]\n",
    ")\n",
    "\n",
    "result = response.choices[0].message.content\n",
    "print(result)\n",
    "\n",
    "## https://hyunicecream.tistory.com/78 이거 참고해서 gpt 키 더 써보기"
   ]
  }
 ],
 "metadata": {
  "kernelspec": {
   "display_name": "zipchack",
   "language": "python",
   "name": "python3"
  },
  "language_info": {
   "codemirror_mode": {
    "name": "ipython",
    "version": 3
   },
   "file_extension": ".py",
   "mimetype": "text/x-python",
   "name": "python",
   "nbconvert_exporter": "python",
   "pygments_lexer": "ipython3",
   "version": "3.9.20"
  }
 },
 "nbformat": 4,
 "nbformat_minor": 2
}
